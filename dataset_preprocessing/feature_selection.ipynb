{
 "cells": [
  {
   "cell_type": "code",
   "execution_count": 213,
   "metadata": {},
   "outputs": [],
   "source": [
    "import matplotlib.pyplot as plt \n",
    "import pandas as pd\n",
    "import seaborn as sns\n",
    "import numpy as np\n",
    "\n",
    "from matplotlib import pyplot\n",
    "from sklearn.preprocessing import MinMaxScaler\n",
    "from statsmodels.tsa.stattools import adfuller\n",
    "from sklearn.metrics.pairwise import cosine_similarity\n",
    "from statsmodels.stats.diagnostic import acorr_ljungbox\n",
    "from statsmodels.tsa.seasonal import seasonal_decompose\n",
    "\n",
    "from tensorflow.keras.preprocessing.sequence import TimeseriesGenerator"
   ]
  },
  {
   "cell_type": "code",
   "execution_count": 252,
   "metadata": {},
   "outputs": [],
   "source": [
    "window_size = 350.0\n",
    "protocols = ['all', 'dns', 'ftp', 'ftp-data', 'http', 'pop3', 'smtp', 'ssh']\n",
    "protocol = protocols[1]"
   ]
  },
  {
   "cell_type": "code",
   "execution_count": 253,
   "metadata": {},
   "outputs": [],
   "source": [
    "df = pd.read_csv('processed_dataset/{0}/{1}/{1}_time_series.csv'.format(window_size, protocol))\n",
    "df.drop(columns=['time_sum', 'Label_sum'], inplace=True)"
   ]
  },
  {
   "cell_type": "code",
   "execution_count": 254,
   "metadata": {},
   "outputs": [
    {
     "data": {
      "text/html": [
       "<div>\n",
       "<style scoped>\n",
       "    .dataframe tbody tr th:only-of-type {\n",
       "        vertical-align: middle;\n",
       "    }\n",
       "\n",
       "    .dataframe tbody tr th {\n",
       "        vertical-align: top;\n",
       "    }\n",
       "\n",
       "    .dataframe thead th {\n",
       "        text-align: right;\n",
       "    }\n",
       "</style>\n",
       "<table border=\"1\" class=\"dataframe\">\n",
       "  <thead>\n",
       "    <tr style=\"text-align: right;\">\n",
       "      <th></th>\n",
       "      <th>sbytes_sum</th>\n",
       "      <th>dbytes_sum</th>\n",
       "      <th>sttl_sum</th>\n",
       "      <th>dttl_sum</th>\n",
       "      <th>sloss_sum</th>\n",
       "      <th>dloss_sum</th>\n",
       "      <th>Sload_sum</th>\n",
       "      <th>Dload_sum</th>\n",
       "      <th>Spkts_sum</th>\n",
       "      <th>Dpkts_sum</th>\n",
       "      <th>...</th>\n",
       "      <th>tc_flw_http_mthd_sum</th>\n",
       "      <th>is_ftp_login_sum</th>\n",
       "      <th>ct_srv_src_sum</th>\n",
       "      <th>ct_srv_dst_sum</th>\n",
       "      <th>ct_dst_ltm_sum</th>\n",
       "      <th>ct_src_ltm_sum</th>\n",
       "      <th>ct_src_dport_ltm_sum</th>\n",
       "      <th>ct_dst_sport_ltm_sum</th>\n",
       "      <th>ct_dst_src_ltm_sum</th>\n",
       "      <th>connections_sum</th>\n",
       "    </tr>\n",
       "  </thead>\n",
       "  <tbody>\n",
       "    <tr>\n",
       "      <th>0</th>\n",
       "      <td>196706</td>\n",
       "      <td>241762</td>\n",
       "      <td>43648</td>\n",
       "      <td>40832</td>\n",
       "      <td>0</td>\n",
       "      <td>0</td>\n",
       "      <td>736774612</td>\n",
       "      <td>905632184</td>\n",
       "      <td>2816</td>\n",
       "      <td>2816</td>\n",
       "      <td>...</td>\n",
       "      <td>0</td>\n",
       "      <td>0</td>\n",
       "      <td>4406</td>\n",
       "      <td>4372</td>\n",
       "      <td>4252</td>\n",
       "      <td>5113</td>\n",
       "      <td>2002</td>\n",
       "      <td>1488</td>\n",
       "      <td>1844</td>\n",
       "      <td>1408</td>\n",
       "    </tr>\n",
       "    <tr>\n",
       "      <th>1</th>\n",
       "      <td>207316</td>\n",
       "      <td>252252</td>\n",
       "      <td>46642</td>\n",
       "      <td>42514</td>\n",
       "      <td>0</td>\n",
       "      <td>0</td>\n",
       "      <td>2368500639</td>\n",
       "      <td>949837464</td>\n",
       "      <td>2946</td>\n",
       "      <td>2932</td>\n",
       "      <td>...</td>\n",
       "      <td>0</td>\n",
       "      <td>0</td>\n",
       "      <td>3836</td>\n",
       "      <td>3799</td>\n",
       "      <td>4519</td>\n",
       "      <td>6047</td>\n",
       "      <td>2065</td>\n",
       "      <td>1549</td>\n",
       "      <td>2034</td>\n",
       "      <td>1473</td>\n",
       "    </tr>\n",
       "    <tr>\n",
       "      <th>2</th>\n",
       "      <td>274412</td>\n",
       "      <td>276076</td>\n",
       "      <td>51031</td>\n",
       "      <td>46817</td>\n",
       "      <td>4</td>\n",
       "      <td>2</td>\n",
       "      <td>894039819</td>\n",
       "      <td>1035900670</td>\n",
       "      <td>3470</td>\n",
       "      <td>3208</td>\n",
       "      <td>...</td>\n",
       "      <td>0</td>\n",
       "      <td>0</td>\n",
       "      <td>4385</td>\n",
       "      <td>4499</td>\n",
       "      <td>5210</td>\n",
       "      <td>6748</td>\n",
       "      <td>2221</td>\n",
       "      <td>1665</td>\n",
       "      <td>2189</td>\n",
       "      <td>1603</td>\n",
       "    </tr>\n",
       "    <tr>\n",
       "      <th>3</th>\n",
       "      <td>236524</td>\n",
       "      <td>283494</td>\n",
       "      <td>48537</td>\n",
       "      <td>44595</td>\n",
       "      <td>0</td>\n",
       "      <td>0</td>\n",
       "      <td>1113895962</td>\n",
       "      <td>1006504085</td>\n",
       "      <td>3268</td>\n",
       "      <td>3256</td>\n",
       "      <td>...</td>\n",
       "      <td>0</td>\n",
       "      <td>0</td>\n",
       "      <td>4189</td>\n",
       "      <td>4064</td>\n",
       "      <td>4302</td>\n",
       "      <td>4894</td>\n",
       "      <td>2152</td>\n",
       "      <td>1606</td>\n",
       "      <td>1935</td>\n",
       "      <td>1534</td>\n",
       "    </tr>\n",
       "    <tr>\n",
       "      <th>4</th>\n",
       "      <td>202622</td>\n",
       "      <td>248108</td>\n",
       "      <td>44429</td>\n",
       "      <td>41325</td>\n",
       "      <td>0</td>\n",
       "      <td>0</td>\n",
       "      <td>799474775</td>\n",
       "      <td>928763180</td>\n",
       "      <td>2852</td>\n",
       "      <td>2850</td>\n",
       "      <td>...</td>\n",
       "      <td>0</td>\n",
       "      <td>0</td>\n",
       "      <td>4210</td>\n",
       "      <td>4140</td>\n",
       "      <td>4036</td>\n",
       "      <td>4560</td>\n",
       "      <td>2055</td>\n",
       "      <td>1511</td>\n",
       "      <td>1819</td>\n",
       "      <td>1426</td>\n",
       "    </tr>\n",
       "  </tbody>\n",
       "</table>\n",
       "<p>5 rows × 37 columns</p>\n",
       "</div>"
      ],
      "text/plain": [
       "   sbytes_sum  dbytes_sum  sttl_sum  dttl_sum  sloss_sum  dloss_sum  \\\n",
       "0      196706      241762     43648     40832          0          0   \n",
       "1      207316      252252     46642     42514          0          0   \n",
       "2      274412      276076     51031     46817          4          2   \n",
       "3      236524      283494     48537     44595          0          0   \n",
       "4      202622      248108     44429     41325          0          0   \n",
       "\n",
       "    Sload_sum   Dload_sum  Spkts_sum  Dpkts_sum  ...  tc_flw_http_mthd_sum  \\\n",
       "0   736774612   905632184       2816       2816  ...                     0   \n",
       "1  2368500639   949837464       2946       2932  ...                     0   \n",
       "2   894039819  1035900670       3470       3208  ...                     0   \n",
       "3  1113895962  1006504085       3268       3256  ...                     0   \n",
       "4   799474775   928763180       2852       2850  ...                     0   \n",
       "\n",
       "   is_ftp_login_sum  ct_srv_src_sum  ct_srv_dst_sum  ct_dst_ltm_sum  \\\n",
       "0                 0            4406            4372            4252   \n",
       "1                 0            3836            3799            4519   \n",
       "2                 0            4385            4499            5210   \n",
       "3                 0            4189            4064            4302   \n",
       "4                 0            4210            4140            4036   \n",
       "\n",
       "   ct_src_ltm_sum  ct_src_dport_ltm_sum  ct_dst_sport_ltm_sum  \\\n",
       "0            5113                  2002                  1488   \n",
       "1            6047                  2065                  1549   \n",
       "2            6748                  2221                  1665   \n",
       "3            4894                  2152                  1606   \n",
       "4            4560                  2055                  1511   \n",
       "\n",
       "   ct_dst_src_ltm_sum  connections_sum  \n",
       "0                1844             1408  \n",
       "1                2034             1473  \n",
       "2                2189             1603  \n",
       "3                1935             1534  \n",
       "4                1819             1426  \n",
       "\n",
       "[5 rows x 37 columns]"
      ]
     },
     "execution_count": 254,
     "metadata": {},
     "output_type": "execute_result"
    }
   ],
   "source": [
    "df.head()"
   ]
  },
  {
   "cell_type": "code",
   "execution_count": 248,
   "metadata": {},
   "outputs": [
    {
     "name": "stdout",
     "output_type": "stream",
     "text": [
      "0.40 trans_depth_sum\n",
      "0.40 synack_sum\n",
      "0.40 ct_state_ttl_sum\n",
      "0.40 ct_dst_sport_ltm_sum\n"
     ]
    }
   ],
   "source": [
    "#Remove columns if it contains less than 2% unique values\n",
    "percent = 2\n",
    "\n",
    "for i, v in enumerate(df.nunique()):\n",
    "    p = float(v) / df.shape[0] * 100\n",
    "    if p < percent:\n",
    "        print('{:.2f}'.format(p), df.columns[i])\n",
    "        df.drop(columns=df.columns[i], inplace=True)"
   ]
  },
  {
   "cell_type": "code",
   "execution_count": 249,
   "metadata": {},
   "outputs": [
    {
     "name": "stdout",
     "output_type": "stream",
     "text": [
      "Remove (cosine) similar columns to another one: 8\n"
     ]
    }
   ],
   "source": [
    "max_similarity = 0.98\n",
    "\n",
    "sim_cols = set()\n",
    "for i in range(df.shape[1]):\n",
    "    col = df.iloc[:, i]\n",
    "    for j in range(i + 1, df.shape[1]):\n",
    "        otherCol = df.iloc[:, j]\n",
    "        cs = cosine_similarity(col.values.reshape(1, -1), otherCol.values.reshape(1, -1))\n",
    "        if cs > max_similarity:\n",
    "            #print('\\t', cs, df.columns[i], '\\t', df.columns[j])\n",
    "            sim_cols.add(df.columns.values[j])\n",
    "            \n",
    "print('Remove (cosine) similar columns to another one:', len(sim_cols))\n",
    "df.drop(columns=sim_cols, inplace=True)"
   ]
  },
  {
   "cell_type": "code",
   "execution_count": 250,
   "metadata": {},
   "outputs": [
    {
     "name": "stdout",
     "output_type": "stream",
     "text": [
      "8\n",
      "Index(['sbytes_sum', 'dbytes_sum', 'sttl_sum', 'dloss_sum', 'stcpb_sum',\n",
      "       'Sjit_sum', 'tcprtt_sum', 'ackdat_sum'],\n",
      "      dtype='object')\n"
     ]
    }
   ],
   "source": [
    "print(len(df.columns))\n",
    "print(df.columns)\n",
    "\n",
    "# predtym 37 stlpcov\n",
    "# potom 18 stlpcov"
   ]
  },
  {
   "cell_type": "code",
   "execution_count": 251,
   "metadata": {},
   "outputs": [
    {
     "name": "stdout",
     "output_type": "stream",
     "text": [
      "sbytes_sum 0.7271643308998651\n",
      "dbytes_sum\n",
      "sttl_sum 0.7337257457911974\n",
      "dloss_sum 0.4236810177240871\n",
      "stcpb_sum 0.38646887270523983\n",
      "Sjit_sum 0.33563319194915936\n"
     ]
    },
    {
     "name": "stderr",
     "output_type": "stream",
     "text": [
      "/Users/tomasroncak/Documents/diplomova_praca/venv/lib/python3.9/site-packages/statsmodels/regression/linear_model.py:924: RuntimeWarning: divide by zero encountered in log\n",
      "  llf = -nobs2*np.log(2*np.pi) - nobs2*np.log(ssr / nobs) - nobs2\n",
      "/Users/tomasroncak/Documents/diplomova_praca/venv/lib/python3.9/site-packages/statsmodels/regression/linear_model.py:924: RuntimeWarning: divide by zero encountered in log\n",
      "  llf = -nobs2*np.log(2*np.pi) - nobs2*np.log(ssr / nobs) - nobs2\n"
     ]
    }
   ],
   "source": [
    "#Augmented Dickey-Fuller (ADF) unit root test\n",
    "failed_columns = []\n",
    "for col in df.columns:\n",
    "    dftest = adfuller(df[col], autolag='AIC')\n",
    "    if (dftest[1] > 0.05):\n",
    "        failed_columns.append(col)\n",
    "        print(col, dftest[1])\n",
    "    if (dftest[1] < 0.05):\n",
    "        print(col)\n",
    "        #print(\"Statistic Test : \" , dftest[0])\n",
    "        #print('p-value: ', dftest[1], '\\nNum of lags: ', dftest[2])\n",
    "        #for key,value in dftest[4].items():\n",
    "        #    print(f\" critical value {key} : {value}\")\n",
    "        #print(\"--------------------------------------------------\")\n",
    "    #else:\n",
    "    #    print(col)\n",
    "    #    print(\"Statistic Test : \" , dftest[0])\n",
    "    #    print('p-value: ', dftest[1], '\\nNum of lags: ', dftest[2])\n",
    "    #    for key,value in dftest[4].items():\n",
    "    #        print(f\" critical value {key} : {value}\")\n",
    "    #print(\"--------------------------------------------------\")\n",
    "    \n",
    "df.drop(columns=failed_columns, inplace=True)"
   ]
  },
  {
   "cell_type": "code",
   "execution_count": 221,
   "metadata": {},
   "outputs": [],
   "source": [
    "for col in df.columns:\n",
    "    res = acorr_ljungbox(df[col], lags=[3, 6, 24], return_df=True)\n",
    "    if all(p > 0.05 for p in res.lb_pvalue): # if true data are random\n",
    "        print(col, '\\t', res.lb_pvalue)"
   ]
  },
  {
   "cell_type": "code",
   "execution_count": 222,
   "metadata": {},
   "outputs": [
    {
     "data": {
      "text/plain": [
       "Index(['sbytes_sum', 'dbytes_sum', 'dttl_sum', 'Dload_sum', 'smeansz_sum',\n",
       "       'trans_depth_sum', 'res_bdy_len_sum', 'Sjit_sum',\n",
       "       'tc_flw_http_mthd_sum', 'is_ftp_login_sum'],\n",
       "      dtype='object')"
      ]
     },
     "execution_count": 222,
     "metadata": {},
     "output_type": "execute_result"
    }
   ],
   "source": [
    "df.columns"
   ]
  },
  {
   "cell_type": "code",
   "execution_count": 223,
   "metadata": {},
   "outputs": [],
   "source": [
    "#odseknutie hodnot ktore su prilis vysoke\n",
    "percent = 0.05\n",
    "df.clip(lower=df.quantile(0), upper=df.quantile(1-percent), axis=1, inplace=True)"
   ]
  },
  {
   "cell_type": "code",
   "execution_count": 224,
   "metadata": {},
   "outputs": [],
   "source": [
    "#fig, ax = pyplot.subplots(figsize=(8, 6))\n",
    "#sns.heatmap(df.corr(), ax=ax, annot=True, fmt=\".2f\", cmap=\"YlGnBu\")\n",
    "\n",
    "corr_matrix = df.corr().abs()\n",
    "\n",
    "# Select upper triangle of correlation matrix\n",
    "upper = corr_matrix.where(np.triu(np.ones(corr_matrix.shape), k=1).astype(bool))\n",
    "\n",
    "# Find and drop features with correlation greater than 0.95\n",
    "df.drop([column for column in upper.columns if any(upper[column] > 0.95)], axis=1, inplace=True)"
   ]
  },
  {
   "cell_type": "code",
   "execution_count": 225,
   "metadata": {},
   "outputs": [
    {
     "data": {
      "text/plain": [
       "'cols=df.columns\\ndf_result = pd.DataFrame()\\nfor col in cols:\\n    column = df[col]\\n    result = seasonal_decompose(column, period=7, model=\\'additive\\')\\n    print(result)\\n    \\n    plt.rcParams[\"figure.figsize\"] = (15, 12)\\n    result.plot()\\n    plt.show()'"
      ]
     },
     "execution_count": 225,
     "metadata": {},
     "output_type": "execute_result"
    }
   ],
   "source": [
    "'''cols=df.columns\n",
    "df_result = pd.DataFrame()\n",
    "for col in cols:\n",
    "    column = df[col]\n",
    "    result = seasonal_decompose(column, period=7, model='additive')\n",
    "    print(result)\n",
    "    \n",
    "    plt.rcParams[\"figure.figsize\"] = (15, 12)\n",
    "    result.plot()\n",
    "    plt.show()'''"
   ]
  },
  {
   "cell_type": "code",
   "execution_count": 226,
   "metadata": {},
   "outputs": [],
   "source": [
    "scaler = MinMaxScaler(feature_range=(0, 1))\n",
    "data_trans = scaler.fit_transform(df)\n",
    "#df.to_numpy()"
   ]
  },
  {
   "cell_type": "code",
   "execution_count": 227,
   "metadata": {},
   "outputs": [],
   "source": [
    "train_size = int(len(data_trans) * 0.80)\n",
    "test_size = len(data_trans) - train_size\n",
    "train, test = data_trans[0:train_size], data_trans[train_size:len(data_trans)]"
   ]
  },
  {
   "cell_type": "code",
   "execution_count": 228,
   "metadata": {},
   "outputs": [],
   "source": [
    "n_input = 3\n",
    "train_data_gen = TimeseriesGenerator(train, \n",
    "                                     train,\n",
    "                                     length=n_input, \n",
    "                                     sampling_rate=1,\n",
    "                                     stride=1,\n",
    "                                     batch_size=1\n",
    "                                    )\n",
    "\n",
    "test_data_gen = TimeseriesGenerator(test, \n",
    "                                    test,\n",
    "                                    length=n_input, \n",
    "                                    sampling_rate=1,\n",
    "                                    stride=1,\n",
    "                                    batch_size=1\n",
    "                                   )"
   ]
  },
  {
   "cell_type": "code",
   "execution_count": 229,
   "metadata": {},
   "outputs": [
    {
     "name": "stdout",
     "output_type": "stream",
     "text": [
      "Samples: 197\n",
      "[[[0.44891016 0.6797037  0.70657345 0.57277059 0.45808687 0.57013946\n",
      "   0.32281835 1.         0.51821862]\n",
      "  [0.64024733 0.69002511 1.         0.77600153 0.57503923 0.67350287\n",
      "   0.67989855 0.88242363 0.65991903]\n",
      "  [0.89956772 0.8339905  1.         0.82990853 0.60711919 0.83921247\n",
      "   0.6916288  1.         0.53036437]]] => [[1.         0.98313605 0.89397535 0.63953884 0.56903637 0.70057424\n",
      "  0.89734371 0.95492972 0.66396761]]\n",
      "---------------------------------------------------------------------------------------------------------------\n",
      "[[[0.64024733 0.69002511 1.         0.77600153 0.57503923 0.67350287\n",
      "   0.67989855 0.88242363 0.65991903]\n",
      "  [0.89956772 0.8339905  1.         0.82990853 0.60711919 0.83921247\n",
      "   0.6916288  1.         0.53036437]\n",
      "  [1.         0.98313605 0.89397535 0.63953884 0.56903637 0.70057424\n",
      "   0.89734371 0.95492972 0.66396761]]] => [[0.51841571 0.81288086 0.76163439 0.71751305 0.46553091 0.73995078\n",
      "  0.87863716 1.         0.4534413 ]]\n",
      "---------------------------------------------------------------------------------------------------------------\n",
      "[[[0.89956772 0.8339905  1.         0.82990853 0.60711919 0.83921247\n",
      "   0.6916288  1.         0.53036437]\n",
      "  [1.         0.98313605 0.89397535 0.63953884 0.56903637 0.70057424\n",
      "   0.89734371 0.95492972 0.66396761]\n",
      "  [0.51841571 0.81288086 0.76163439 0.71751305 0.46553091 0.73995078\n",
      "   0.87863716 1.         0.4534413 ]]] => [[0.58923489 0.79016295 0.66379537 0.71536195 0.51416085 0.75717801\n",
      "  0.71535706 0.31116984 0.59109312]]\n",
      "---------------------------------------------------------------------------------------------------------------\n",
      "[[[1.         0.98313605 0.89397535 0.63953884 0.56903637 0.70057424\n",
      "   0.89734371 0.95492972 0.66396761]\n",
      "  [0.51841571 0.81288086 0.76163439 0.71751305 0.46553091 0.73995078\n",
      "   0.87863716 1.         0.4534413 ]\n",
      "  [0.58923489 0.79016295 0.66379537 0.71536195 0.51416085 0.75717801\n",
      "   0.71535706 0.31116984 0.59109312]]] => [[0.61804472 0.91612891 0.80904614 0.78298372 0.53692291 0.80065628\n",
      "  0.77681912 0.42953218 0.66801619]]\n",
      "---------------------------------------------------------------------------------------------------------------\n",
      "[[[0.51841571 0.81288086 0.76163439 0.71751305 0.46553091 0.73995078\n",
      "   0.87863716 1.         0.4534413 ]\n",
      "  [0.58923489 0.79016295 0.66379537 0.71536195 0.51416085 0.75717801\n",
      "   0.71535706 0.31116984 0.59109312]\n",
      "  [0.61804472 0.91612891 0.80904614 0.78298372 0.53692291 0.80065628\n",
      "   0.77681912 0.42953218 0.66801619]]] => [[0.59528876 0.83058709 0.74869809 0.77098678 0.60452039 0.8269073\n",
      "  1.         0.32156967 0.6194332 ]]\n",
      "---------------------------------------------------------------------------------------------------------------\n"
     ]
    }
   ],
   "source": [
    "print('Samples: %d' % len(train_data_gen))\n",
    "for i in range(5):\n",
    "    x, y = train_data_gen[i]\n",
    "    print('%s => %s' % (x, y))\n",
    "    print(\"---------------------------------------------------------------------------------------------------------------\")\n"
   ]
  }
 ],
 "metadata": {
  "kernelspec": {
   "display_name": "Python 3.9.6 ('venv': venv)",
   "language": "python",
   "name": "python3"
  },
  "language_info": {
   "codemirror_mode": {
    "name": "ipython",
    "version": 3
   },
   "file_extension": ".py",
   "mimetype": "text/x-python",
   "name": "python",
   "nbconvert_exporter": "python",
   "pygments_lexer": "ipython3",
   "version": "3.9.6"
  },
  "orig_nbformat": 4,
  "vscode": {
   "interpreter": {
    "hash": "078b7f549ce06021f218b206904dfcb65e5511097eb85c87905c0224aeb124ba"
   }
  }
 },
 "nbformat": 4,
 "nbformat_minor": 2
}
